{
 "cells": [
  {
   "cell_type": "markdown",
   "metadata": {},
   "source": [
    "# Introduction"
   ]
  },
  {
   "cell_type": "markdown",
   "metadata": {},
   "source": [
    "In the NFL, teams must play the others in their division twice a year. Divisions are labeled “North”, “South”, “East”, and “West”, but teams are seemingly haphazardly organized. The cardinal directionally named divisions are a very broad generalization of team locations. For example in the AFC “East”, why are the New England Patriots in the same division as the Miami Dolphins, forcing them both to trek the entire eastern seaboard twice a year? \n",
    "\n",
    "These divisional groupings are vestiges of an ever evolving league. The additions and relocations of teams over the last 60 years has driven divisional groupings instead of using an optimal solution. Unnecessary travel time should be minimized as it’s taxing to players and the environment. This project’s purpose is to propose new divisional and conference groupings to minimize the travel time wasted in a season."
   ]
  },
  {
   "cell_type": "code",
   "execution_count": 2,
   "metadata": {},
   "outputs": [
    {
     "name": "stderr",
     "output_type": "stream",
     "text": [
      "UsageError: Cell magic `%%gams` not found.\n"
     ]
    }
   ],
   "source": [
    "%%gams"
   ]
  },
  {
   "cell_type": "code",
   "execution_count": null,
   "metadata": {},
   "outputs": [],
   "source": []
  }
 ],
 "metadata": {
  "kernelspec": {
   "display_name": "Python 3",
   "language": "python",
   "name": "python3"
  },
  "language_info": {
   "codemirror_mode": {
    "name": "ipython",
    "version": 3
   },
   "file_extension": ".py",
   "mimetype": "text/x-python",
   "name": "python",
   "nbconvert_exporter": "python",
   "pygments_lexer": "ipython3",
   "version": "3.6.9"
  }
 },
 "nbformat": 4,
 "nbformat_minor": 2
}
